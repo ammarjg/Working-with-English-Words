{
 "cells": [
  {
   "cell_type": "code",
   "execution_count": 1,
   "id": "843baf11-7791-4160-8cde-1aae1bf4dbdc",
   "metadata": {},
   "outputs": [],
   "source": [
    "import pandas as pd"
   ]
  },
  {
   "cell_type": "code",
   "execution_count": 2,
   "id": "0a3545c6-223a-4907-8ee3-91b3508c5dc9",
   "metadata": {},
   "outputs": [],
   "source": [
    "url = \"https://raw.githubusercontent.com/dolph/dictionary/master/popular.txt\"\n",
    "df = pd.read_csv(url, header=None, names=[\"Word\"])"
   ]
  },
  {
   "cell_type": "code",
   "execution_count": 3,
   "id": "0513836f-96ac-4b6f-8b4d-1ebb42aa193f",
   "metadata": {},
   "outputs": [],
   "source": [
    "# Ensure no NaN values and all values are strings\n",
    "df[\"Word\"] = df[\"Word\"].fillna(\"\").astype(str)\n",
    "\n",
    "# Compute \"Char Count\"\n",
    "df[\"Char Count\"] = df[\"Word\"].apply(len)\n",
    "\n",
    "# Compute \"Value\" (alphabet values)\n",
    "df[\"Value\"] = df[\"Word\"].apply(lambda x: sum(ord(c.lower()) - ord('a') + 1 for c in x if c.isalpha()))\n",
    "\n",
    "# Compute \"Ratio\"\n",
    "df[\"Ratio\"] = df[\"Value\"] / df[\"Char Count\"]\n"
   ]
  },
  {
   "cell_type": "markdown",
   "id": "94fb9e5e-959c-4670-a12a-0967fbb572cd",
   "metadata": {},
   "source": [
    "### Activities"
   ]
  },
  {
   "cell_type": "markdown",
   "id": "34bcdde2-569d-4c4f-a229-b67c77bea403",
   "metadata": {},
   "source": [
    "##### How many rows does this DataFrame have?"
   ]
  },
  {
   "cell_type": "code",
   "execution_count": 92,
   "id": "f27f82b0-967e-4e29-b49e-b373fd82d3d1",
   "metadata": {},
   "outputs": [
    {
     "data": {
      "text/plain": [
       "25322"
      ]
     },
     "execution_count": 92,
     "metadata": {},
     "output_type": "execute_result"
    }
   ],
   "source": [
    "df.shape[0]"
   ]
  },
  {
   "cell_type": "markdown",
   "id": "d427e8ca-9a3a-4c00-a773-35de0dfc0418",
   "metadata": {},
   "source": [
    "##### What is the total number of columns in the DataFrame?"
   ]
  },
  {
   "cell_type": "code",
   "execution_count": 93,
   "id": "4a9e154c-4aac-4f5f-a839-593c4f47db23",
   "metadata": {},
   "outputs": [
    {
     "data": {
      "text/plain": [
       "4"
      ]
     },
     "execution_count": 93,
     "metadata": {},
     "output_type": "execute_result"
    }
   ],
   "source": [
    "df.shape[1]"
   ]
  },
  {
   "cell_type": "markdown",
   "id": "c8424371-d84b-4e78-9ddc-65096a2bd188",
   "metadata": {},
   "source": [
    "##### What is the average Char Count in this DataFrame?"
   ]
  },
  {
   "cell_type": "code",
   "execution_count": 79,
   "id": "d303ad87-6614-4398-9078-552c558af7e1",
   "metadata": {},
   "outputs": [
    {
     "data": {
      "text/plain": [
       "7.3133638733117445"
      ]
     },
     "execution_count": 79,
     "metadata": {},
     "output_type": "execute_result"
    }
   ],
   "source": [
    "df['Char Count'].mean()"
   ]
  },
  {
   "cell_type": "markdown",
   "id": "ca82808d-0676-40c0-ac05-ca9934582a6b",
   "metadata": {},
   "source": [
    "##### How many unique words are there in this dataset?"
   ]
  },
  {
   "cell_type": "code",
   "execution_count": 98,
   "id": "8bd3e97e-6eae-40e6-a150-d45b4ecdb180",
   "metadata": {},
   "outputs": [
    {
     "data": {
      "text/plain": [
       "25321"
      ]
     },
     "execution_count": 98,
     "metadata": {},
     "output_type": "execute_result"
    }
   ],
   "source": [
    "df['Word'].nunique()\n",
    "# df.nunique()"
   ]
  },
  {
   "cell_type": "markdown",
   "id": "566605b2-815e-4e52-87d4-26bf92e108c6",
   "metadata": {},
   "source": [
    "##### What is the sum of all the Values in the Value column?"
   ]
  },
  {
   "cell_type": "code",
   "execution_count": 99,
   "id": "1f23c77b-a0c2-4c65-a9ed-e288535362d1",
   "metadata": {},
   "outputs": [
    {
     "data": {
      "text/plain": [
       "2159964"
      ]
     },
     "execution_count": 99,
     "metadata": {},
     "output_type": "execute_result"
    }
   ],
   "source": [
    "df['Value'].sum()"
   ]
  },
  {
   "cell_type": "markdown",
   "id": "e5431163-adc7-4327-b5d6-f6ed57f3a7ec",
   "metadata": {},
   "source": [
    "##### What is the word with the shortest Char Count?"
   ]
  },
  {
   "cell_type": "code",
   "execution_count": 153,
   "id": "312cd5a2-7624-4d57-98b0-ad3a4205bc86",
   "metadata": {},
   "outputs": [
    {
     "data": {
      "text/plain": [
       "Word             \n",
       "Char Count      0\n",
       "Value           0\n",
       "Ratio         NaN\n",
       "Name: 14638, dtype: object"
      ]
     },
     "execution_count": 153,
     "metadata": {},
     "output_type": "execute_result"
    }
   ],
   "source": [
    "# df.loc[df['Char Count'].min()] rhis code is not correct\n",
    "df.loc[df['Char Count'].idxmin()]"
   ]
  },
  {
   "cell_type": "markdown",
   "id": "3a990a1c-ff13-4f08-b8ef-fddaffa4980a",
   "metadata": {},
   "source": [
    "**to find the `Word` with shortest `Char Count` without NaN value in `Ratio`**"
   ]
  },
  {
   "cell_type": "code",
   "execution_count": 157,
   "id": "aaa25cda-0c4a-40cb-bed0-a265a4ab15ed",
   "metadata": {},
   "outputs": [
    {
     "data": {
      "text/plain": [
       "Word           aa\n",
       "Char Count      2\n",
       "Value           2\n",
       "Ratio         1.0\n",
       "Name: 0, dtype: object"
      ]
     },
     "execution_count": 157,
     "metadata": {},
     "output_type": "execute_result"
    }
   ],
   "source": [
    "df.loc[df[df['Ratio'].notna()]['Char Count'].idxmin()]"
   ]
  },
  {
   "cell_type": "markdown",
   "id": "cd31bc58-ba8b-487d-99ed-af28d8675ec6",
   "metadata": {},
   "source": [
    "##### Which word has the lowest Ratio?"
   ]
  },
  {
   "cell_type": "code",
   "execution_count": 144,
   "id": "9c342468-20fd-477e-84fe-aeec97117176",
   "metadata": {},
   "outputs": [
    {
     "data": {
      "text/plain": [
       "Word           aa\n",
       "Char Count      2\n",
       "Value           2\n",
       "Ratio         1.0\n",
       "Name: 0, dtype: object"
      ]
     },
     "execution_count": 144,
     "metadata": {},
     "output_type": "execute_result"
    }
   ],
   "source": [
    "# df['Ratio'].min() # to find the smallest ratio\n",
    "df.loc[df['Ratio'].idxmin()]"
   ]
  },
  {
   "cell_type": "markdown",
   "id": "18aebf60-8880-46ce-9bd4-5959dc6c9532",
   "metadata": {},
   "source": [
    "##### How many words have a Char Count greater than 10?"
   ]
  },
  {
   "cell_type": "code",
   "execution_count": 73,
   "id": "cdde91e5-86a2-48d8-891a-bc23f5d963db",
   "metadata": {},
   "outputs": [
    {
     "data": {
      "text/plain": [
       "2420"
      ]
     },
     "execution_count": 73,
     "metadata": {},
     "output_type": "execute_result"
    }
   ],
   "source": [
    "(df['Char Count'] > 10).sum()"
   ]
  },
  {
   "cell_type": "markdown",
   "id": "52595cc3-9c3c-4b52-8728-228910629d31",
   "metadata": {},
   "source": [
    "##### How many words have a Value greater than 200?"
   ]
  },
  {
   "cell_type": "code",
   "execution_count": 161,
   "id": "10e4f3c7-6494-46de-adc5-0f0026f16536",
   "metadata": {},
   "outputs": [
    {
     "data": {
      "text/plain": [
       "28"
      ]
     },
     "execution_count": 161,
     "metadata": {},
     "output_type": "execute_result"
    }
   ],
   "source": [
    "(df['Value'] > 200).sum()"
   ]
  },
  {
   "cell_type": "markdown",
   "id": "b30cb204-2f01-41d1-b95c-b980a0624ff1",
   "metadata": {},
   "source": [
    "###### Find those words!"
   ]
  },
  {
   "cell_type": "code",
   "execution_count": 165,
   "id": "ffe1015c-c921-42f1-8e3b-7194755acbee",
   "metadata": {},
   "outputs": [
    {
     "data": {
      "text/html": [
       "<div>\n",
       "<style scoped>\n",
       "    .dataframe tbody tr th:only-of-type {\n",
       "        vertical-align: middle;\n",
       "    }\n",
       "\n",
       "    .dataframe tbody tr th {\n",
       "        vertical-align: top;\n",
       "    }\n",
       "\n",
       "    .dataframe thead th {\n",
       "        text-align: right;\n",
       "    }\n",
       "</style>\n",
       "<table border=\"1\" class=\"dataframe\">\n",
       "  <thead>\n",
       "    <tr style=\"text-align: right;\">\n",
       "      <th></th>\n",
       "      <th>Word</th>\n",
       "      <th>Char Count</th>\n",
       "      <th>Value</th>\n",
       "      <th>Ratio</th>\n",
       "    </tr>\n",
       "  </thead>\n",
       "  <tbody>\n",
       "    <tr>\n",
       "      <th>24203</th>\n",
       "      <td>ventriloquist</td>\n",
       "      <td>13</td>\n",
       "      <td>201</td>\n",
       "      <td>15.461538</td>\n",
       "    </tr>\n",
       "    <tr>\n",
       "      <th>14601</th>\n",
       "      <td>mysteriously</td>\n",
       "      <td>12</td>\n",
       "      <td>201</td>\n",
       "      <td>16.750000</td>\n",
       "    </tr>\n",
       "    <tr>\n",
       "      <th>17433</th>\n",
       "      <td>psychotherapist</td>\n",
       "      <td>15</td>\n",
       "      <td>202</td>\n",
       "      <td>13.466667</td>\n",
       "    </tr>\n",
       "    <tr>\n",
       "      <th>18720</th>\n",
       "      <td>revolutionaries</td>\n",
       "      <td>15</td>\n",
       "      <td>203</td>\n",
       "      <td>13.533333</td>\n",
       "    </tr>\n",
       "    <tr>\n",
       "      <th>17050</th>\n",
       "      <td>presumptuous</td>\n",
       "      <td>12</td>\n",
       "      <td>204</td>\n",
       "      <td>17.000000</td>\n",
       "    </tr>\n",
       "    <tr>\n",
       "      <th>11365</th>\n",
       "      <td>impressionists</td>\n",
       "      <td>14</td>\n",
       "      <td>204</td>\n",
       "      <td>14.571429</td>\n",
       "    </tr>\n",
       "    <tr>\n",
       "      <th>23810</th>\n",
       "      <td>unintentionally</td>\n",
       "      <td>15</td>\n",
       "      <td>205</td>\n",
       "      <td>13.666667</td>\n",
       "    </tr>\n",
       "    <tr>\n",
       "      <th>11122</th>\n",
       "      <td>hyperventilating</td>\n",
       "      <td>16</td>\n",
       "      <td>205</td>\n",
       "      <td>12.812500</td>\n",
       "    </tr>\n",
       "    <tr>\n",
       "      <th>20264</th>\n",
       "      <td>simultaneously</td>\n",
       "      <td>14</td>\n",
       "      <td>206</td>\n",
       "      <td>14.714286</td>\n",
       "    </tr>\n",
       "    <tr>\n",
       "      <th>23427</th>\n",
       "      <td>trustworthy</td>\n",
       "      <td>11</td>\n",
       "      <td>207</td>\n",
       "      <td>18.818182</td>\n",
       "    </tr>\n",
       "    <tr>\n",
       "      <th>830</th>\n",
       "      <td>anthropologists</td>\n",
       "      <td>15</td>\n",
       "      <td>208</td>\n",
       "      <td>13.866667</td>\n",
       "    </tr>\n",
       "    <tr>\n",
       "      <th>14180</th>\n",
       "      <td>misunderstandings</td>\n",
       "      <td>17</td>\n",
       "      <td>210</td>\n",
       "      <td>12.352941</td>\n",
       "    </tr>\n",
       "    <tr>\n",
       "      <th>7604</th>\n",
       "      <td>environmentalist</td>\n",
       "      <td>16</td>\n",
       "      <td>210</td>\n",
       "      <td>13.125000</td>\n",
       "    </tr>\n",
       "    <tr>\n",
       "      <th>23655</th>\n",
       "      <td>unconsciousness</td>\n",
       "      <td>15</td>\n",
       "      <td>210</td>\n",
       "      <td>14.000000</td>\n",
       "    </tr>\n",
       "    <tr>\n",
       "      <th>8049</th>\n",
       "      <td>extracurriculars</td>\n",
       "      <td>16</td>\n",
       "      <td>211</td>\n",
       "      <td>13.187500</td>\n",
       "    </tr>\n",
       "    <tr>\n",
       "      <th>21987</th>\n",
       "      <td>superstitious</td>\n",
       "      <td>13</td>\n",
       "      <td>211</td>\n",
       "      <td>16.230769</td>\n",
       "    </tr>\n",
       "    <tr>\n",
       "      <th>8058</th>\n",
       "      <td>extraterrestrial</td>\n",
       "      <td>16</td>\n",
       "      <td>213</td>\n",
       "      <td>13.312500</td>\n",
       "    </tr>\n",
       "    <tr>\n",
       "      <th>6536</th>\n",
       "      <td>disproportionate</td>\n",
       "      <td>16</td>\n",
       "      <td>214</td>\n",
       "      <td>13.375000</td>\n",
       "    </tr>\n",
       "    <tr>\n",
       "      <th>4805</th>\n",
       "      <td>conversationalist</td>\n",
       "      <td>17</td>\n",
       "      <td>216</td>\n",
       "      <td>12.705882</td>\n",
       "    </tr>\n",
       "    <tr>\n",
       "      <th>12026</th>\n",
       "      <td>irresponsibility</td>\n",
       "      <td>16</td>\n",
       "      <td>219</td>\n",
       "      <td>13.687500</td>\n",
       "    </tr>\n",
       "    <tr>\n",
       "      <th>23639</th>\n",
       "      <td>uncharacteristically</td>\n",
       "      <td>20</td>\n",
       "      <td>222</td>\n",
       "      <td>11.100000</td>\n",
       "    </tr>\n",
       "    <tr>\n",
       "      <th>14134</th>\n",
       "      <td>misinterpretation</td>\n",
       "      <td>17</td>\n",
       "      <td>225</td>\n",
       "      <td>13.235294</td>\n",
       "    </tr>\n",
       "    <tr>\n",
       "      <th>23656</th>\n",
       "      <td>unconstitutional</td>\n",
       "      <td>16</td>\n",
       "      <td>227</td>\n",
       "      <td>14.187500</td>\n",
       "    </tr>\n",
       "    <tr>\n",
       "      <th>11788</th>\n",
       "      <td>institutionalized</td>\n",
       "      <td>17</td>\n",
       "      <td>227</td>\n",
       "      <td>13.352941</td>\n",
       "    </tr>\n",
       "    <tr>\n",
       "      <th>4679</th>\n",
       "      <td>constitutionally</td>\n",
       "      <td>16</td>\n",
       "      <td>229</td>\n",
       "      <td>14.312500</td>\n",
       "    </tr>\n",
       "    <tr>\n",
       "      <th>5003</th>\n",
       "      <td>counterproductive</td>\n",
       "      <td>17</td>\n",
       "      <td>229</td>\n",
       "      <td>13.470588</td>\n",
       "    </tr>\n",
       "    <tr>\n",
       "      <th>8059</th>\n",
       "      <td>extraterrestrials</td>\n",
       "      <td>17</td>\n",
       "      <td>232</td>\n",
       "      <td>13.647059</td>\n",
       "    </tr>\n",
       "    <tr>\n",
       "      <th>23955</th>\n",
       "      <td>untrustworthy</td>\n",
       "      <td>13</td>\n",
       "      <td>242</td>\n",
       "      <td>18.615385</td>\n",
       "    </tr>\n",
       "  </tbody>\n",
       "</table>\n",
       "</div>"
      ],
      "text/plain": [
       "                       Word  Char Count  Value      Ratio\n",
       "24203         ventriloquist          13    201  15.461538\n",
       "14601          mysteriously          12    201  16.750000\n",
       "17433       psychotherapist          15    202  13.466667\n",
       "18720       revolutionaries          15    203  13.533333\n",
       "17050          presumptuous          12    204  17.000000\n",
       "11365        impressionists          14    204  14.571429\n",
       "23810       unintentionally          15    205  13.666667\n",
       "11122      hyperventilating          16    205  12.812500\n",
       "20264        simultaneously          14    206  14.714286\n",
       "23427           trustworthy          11    207  18.818182\n",
       "830         anthropologists          15    208  13.866667\n",
       "14180     misunderstandings          17    210  12.352941\n",
       "7604       environmentalist          16    210  13.125000\n",
       "23655       unconsciousness          15    210  14.000000\n",
       "8049       extracurriculars          16    211  13.187500\n",
       "21987         superstitious          13    211  16.230769\n",
       "8058       extraterrestrial          16    213  13.312500\n",
       "6536       disproportionate          16    214  13.375000\n",
       "4805      conversationalist          17    216  12.705882\n",
       "12026      irresponsibility          16    219  13.687500\n",
       "23639  uncharacteristically          20    222  11.100000\n",
       "14134     misinterpretation          17    225  13.235294\n",
       "23656      unconstitutional          16    227  14.187500\n",
       "11788     institutionalized          17    227  13.352941\n",
       "4679       constitutionally          16    229  14.312500\n",
       "5003      counterproductive          17    229  13.470588\n",
       "8059      extraterrestrials          17    232  13.647059\n",
       "23955         untrustworthy          13    242  18.615385"
      ]
     },
     "execution_count": 165,
     "metadata": {},
     "output_type": "execute_result"
    }
   ],
   "source": [
    "df.loc[df['Value'] > 200].sort_values(by = 'Value')"
   ]
  },
  {
   "cell_type": "markdown",
   "id": "2c17ec59-1f00-42ff-af04-591c3126db07",
   "metadata": {},
   "source": [
    "##### What word is the one with the highest Ratio?"
   ]
  },
  {
   "cell_type": "code",
   "execution_count": 166,
   "id": "6de1d3d7-f404-4f81-92bd-5612de53d11a",
   "metadata": {},
   "outputs": [
    {
     "data": {
      "text/plain": [
       "Word           wry\n",
       "Char Count       3\n",
       "Value           66\n",
       "Ratio         22.0\n",
       "Name: 25173, dtype: object"
      ]
     },
     "execution_count": 166,
     "metadata": {},
     "output_type": "execute_result"
    }
   ],
   "source": [
    "df.loc[df['Ratio'].idxmax()]"
   ]
  },
  {
   "cell_type": "markdown",
   "id": "ce03c1c6-f58c-4861-845f-ec445acef855",
   "metadata": {},
   "source": [
    "##### How many words have a Ratio of exactly 10?"
   ]
  },
  {
   "cell_type": "code",
   "execution_count": 167,
   "id": "058a9c47-de01-42f7-ba9c-8ee34ea329d7",
   "metadata": {},
   "outputs": [
    {
     "data": {
      "text/plain": [
       "489"
      ]
     },
     "execution_count": 167,
     "metadata": {},
     "output_type": "execute_result"
    }
   ],
   "source": [
    "(df['Ratio'] == 10).sum()"
   ]
  },
  {
   "cell_type": "markdown",
   "id": "7a7ba350-db4b-4856-85d1-359a4c4efaf4",
   "metadata": {},
   "source": [
    "##### What is the maximum Value of all words with a Ratio of 10?"
   ]
  },
  {
   "cell_type": "code",
   "execution_count": 178,
   "id": "e2295a82-d53d-47a2-a687-7ea61a44ef17",
   "metadata": {},
   "outputs": [
    {
     "data": {
      "text/plain": [
       "Word          yanked\n",
       "Char Count        15\n",
       "Value            150\n",
       "Ratio           10.0\n",
       "dtype: object"
      ]
     },
     "execution_count": 178,
     "metadata": {},
     "output_type": "execute_result"
    }
   ],
   "source": [
    "df.loc[df['Ratio'] == 10].max()"
   ]
  },
  {
   "cell_type": "markdown",
   "id": "cd68672e-b6c1-4104-9843-5998c87d59d3",
   "metadata": {},
   "source": [
    "##### How many words have a Value of 260?"
   ]
  },
  {
   "cell_type": "code",
   "execution_count": 181,
   "id": "d68575fd-53d2-41d5-aa6f-c57a6e7cc4b5",
   "metadata": {},
   "outputs": [
    {
     "data": {
      "text/plain": [
       "0"
      ]
     },
     "execution_count": 181,
     "metadata": {},
     "output_type": "execute_result"
    }
   ],
   "source": [
    "(df['Value'] == 260).sum()"
   ]
  },
  {
   "cell_type": "markdown",
   "id": "273f3da8-934a-48a9-a075-3b6a6c931bc1",
   "metadata": {},
   "source": [
    "##### What is the word with the lowest Char Count and a Value of 260?"
   ]
  },
  {
   "cell_type": "code",
   "execution_count": 206,
   "id": "685349e2-40c3-4064-9fbe-f87c4a9dfcaf",
   "metadata": {},
   "outputs": [
    {
     "data": {
      "text/plain": [
       "nan"
      ]
     },
     "execution_count": 206,
     "metadata": {},
     "output_type": "execute_result"
    }
   ],
   "source": [
    "df.loc[df['Value'] == 260]['Char Count'].min()"
   ]
  },
  {
   "cell_type": "markdown",
   "id": "79af29bb-dab1-4f6d-be5b-aed41d80398c",
   "metadata": {},
   "source": [
    "##### What is the average Ratio of all words with a Char Count greater than 15?"
   ]
  },
  {
   "cell_type": "code",
   "execution_count": 207,
   "id": "a75e28d0-8caa-415b-9386-65fb21e03ff1",
   "metadata": {},
   "outputs": [
    {
     "data": {
      "text/plain": [
       "12.523774509803921"
      ]
     },
     "execution_count": 207,
     "metadata": {},
     "output_type": "execute_result"
    }
   ],
   "source": [
    "df.loc[df['Char Count'] > 15]['Ratio'].mean()"
   ]
  },
  {
   "cell_type": "markdown",
   "id": "3dfbbea5-17a7-46b2-b4ab-b926f06633d2",
   "metadata": {},
   "source": [
    "##### What is the most common Char Count in the DataFrame?"
   ]
  },
  {
   "cell_type": "code",
   "execution_count": 213,
   "id": "0c67b619-f7ee-447c-9fcb-48d19f8f5e72",
   "metadata": {},
   "outputs": [
    {
     "data": {
      "text/plain": [
       "Char Count\n",
       "7     4269\n",
       "6     4080\n",
       "8     3789\n",
       "5     3088\n",
       "9     2887\n",
       "10    2020\n",
       "4     1996\n",
       "11    1185\n",
       "12     709\n",
       "3      682\n",
       "13     325\n",
       "14     135\n",
       "2       89\n",
       "15      42\n",
       "16      16\n",
       "17       7\n",
       "0        2\n",
       "20       1\n",
       "Name: count, dtype: int64"
      ]
     },
     "execution_count": 213,
     "metadata": {},
     "output_type": "execute_result"
    }
   ],
   "source": [
    "df['Char Count'].value_counts()"
   ]
  },
  {
   "cell_type": "markdown",
   "id": "90264416-5f95-43e7-911b-1ba29cd76bd2",
   "metadata": {},
   "source": [
    "###### To get the precise the number 7 as the answer"
   ]
  },
  {
   "cell_type": "code",
   "execution_count": 214,
   "id": "f3728e7a-b4c9-4fb6-97c8-5c27e2b6a68d",
   "metadata": {},
   "outputs": [
    {
     "data": {
      "text/plain": [
       "7"
      ]
     },
     "execution_count": 214,
     "metadata": {},
     "output_type": "execute_result"
    }
   ],
   "source": [
    "df['Char Count'].mode().iloc[0]"
   ]
  },
  {
   "cell_type": "markdown",
   "id": "7edc8867-c2ed-4fc9-9c3a-5c5c8b02cb81",
   "metadata": {},
   "source": [
    "##### Of all words with a Ratio of 10, what is the word with the highest Value?"
   ]
  },
  {
   "cell_type": "code",
   "execution_count": 249,
   "id": "62719921-4518-4f64-a0cd-39586518e956",
   "metadata": {},
   "outputs": [
    {
     "data": {
      "text/plain": [
       "16250    pharmaceuticals\n",
       "3875      classification\n",
       "23705     understandable\n",
       "18030     reconnaissance\n",
       "11414      incarceration\n",
       "              ...       \n",
       "14204                mob\n",
       "13831                mel\n",
       "9562                 gin\n",
       "7012                 due\n",
       "1109                  as\n",
       "Name: Word, Length: 489, dtype: object"
      ]
     },
     "execution_count": 249,
     "metadata": {},
     "output_type": "execute_result"
    }
   ],
   "source": [
    "df.loc[df['Ratio'] == 10].sort_values(by = 'Value', ascending = False).iloc[0]"
   ]
  },
  {
   "cell_type": "markdown",
   "id": "efeac5b0-8169-43ce-a743-eea5cb41b504",
   "metadata": {},
   "source": [
    "##### How many unique Ratios are there in the dataset?"
   ]
  },
  {
   "cell_type": "code",
   "execution_count": 240,
   "id": "429ea273-a8aa-4198-83a7-2b98b915eeba",
   "metadata": {},
   "outputs": [
    {
     "data": {
      "text/plain": [
       "740"
      ]
     },
     "execution_count": 240,
     "metadata": {},
     "output_type": "execute_result"
    }
   ],
   "source": [
    "df['Ratio'].nunique()"
   ]
  },
  {
   "cell_type": "markdown",
   "id": "1fbd9905-0c49-45ae-af7d-4bbaee2e16f2",
   "metadata": {},
   "source": [
    "##### For words with a Value greater than 500, what is the word with the longest Char Count?"
   ]
  },
  {
   "cell_type": "code",
   "execution_count": 248,
   "id": "39943dfa-ebed-4013-9d61-60d52f0cabba",
   "metadata": {},
   "outputs": [
    {
     "data": {
      "text/plain": [
       "Series([], Name: Word, dtype: object)"
      ]
     },
     "execution_count": 248,
     "metadata": {},
     "output_type": "execute_result"
    }
   ],
   "source": [
    "df.loc[df['Value'] > 500].sort_values(by = 'Char Count', ascending = False)['Word']"
   ]
  },
  {
   "cell_type": "code",
   "execution_count": 3,
   "id": "d52dc8c2-f60d-4726-ba77-64de6cb2007f",
   "metadata": {},
   "outputs": [],
   "source": [
    "#my completed project link from datawars"
   ]
  },
  {
   "cell_type": "markdown",
   "id": "18355da9-32fd-4387-85b5-4de1e3495fc4",
   "metadata": {},
   "source": [
    "https://profiles.datawars.io/ammarjagadhita/projects/637502af-b693-44d2-8a1c-0bfdd660a74a"
   ]
  }
 ],
 "metadata": {
  "kernelspec": {
   "display_name": "Python 3 (ipykernel)",
   "language": "python",
   "name": "python3"
  },
  "language_info": {
   "codemirror_mode": {
    "name": "ipython",
    "version": 3
   },
   "file_extension": ".py",
   "mimetype": "text/x-python",
   "name": "python",
   "nbconvert_exporter": "python",
   "pygments_lexer": "ipython3",
   "version": "3.12.1"
  }
 },
 "nbformat": 4,
 "nbformat_minor": 5
}
